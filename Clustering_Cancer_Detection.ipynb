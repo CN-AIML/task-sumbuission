{
 "cells": [
  {
   "cell_type": "code",
   "execution_count": null,
   "id": "40961f60-8ca8-468a-a146-ac31944c04a3",
   "metadata": {},
   "outputs": [],
   "source": [
    "import pandas as pd\n",
    "import numpy as np\n",
    "import matplotlib.pyplot as plt\n",
    "import seaborn as sns"
   ]
  },
  {
   "cell_type": "code",
   "execution_count": null,
   "id": "81b2103b-da4c-4d64-9534-8aab29cb3421",
   "metadata": {},
   "outputs": [],
   "source": [
    "dataset=pd.read_csv(\"data.csv\")"
   ]
  },
  {
   "cell_type": "code",
   "execution_count": null,
   "id": "06096314-f060-46f8-832e-5dca52be6df8",
   "metadata": {},
   "outputs": [],
   "source": [
    "dataset"
   ]
  },
  {
   "cell_type": "code",
   "execution_count": null,
   "id": "7316b885-28e3-458c-8a9d-de2f42f003e8",
   "metadata": {},
   "outputs": [],
   "source": [
    "dataset=dataset.drop([\"id\", \"Unnamed: 32\"], axis=1)"
   ]
  },
  {
   "cell_type": "code",
   "execution_count": null,
   "id": "2606d688-09fc-4dcd-af85-2016a3d754d3",
   "metadata": {},
   "outputs": [],
   "source": [
    "dataset"
   ]
  },
  {
   "cell_type": "code",
   "execution_count": null,
   "id": "4148a168-2164-43dd-9dc0-b1c7f763853c",
   "metadata": {},
   "outputs": [],
   "source": [
    "dataset.isnull().sum()"
   ]
  },
  {
   "cell_type": "code",
   "execution_count": null,
   "id": "fc11fb29-6a90-4f23-a1e3-f667819ad9b4",
   "metadata": {},
   "outputs": [],
   "source": [
    "sns.pairplot(dataset.loc[:, [\"radius_mean\", \"texture_mean\", \"diagnosis\"]], hue=\"diagnosis\", height=5)"
   ]
  },
  {
   "cell_type": "code",
   "execution_count": null,
   "id": "2ae8a292-9734-439a-bed3-d5d357f88007",
   "metadata": {},
   "outputs": [],
   "source": [
    "dataset1=dataset.drop(['diagnosis'], axis=1)"
   ]
  },
  {
   "cell_type": "code",
   "execution_count": null,
   "id": "9dbfe899-802a-43d6-a508-17e891998781",
   "metadata": {},
   "outputs": [],
   "source": [
    "dataset1"
   ]
  },
  {
   "cell_type": "code",
   "execution_count": null,
   "id": "21d68072-a068-4e11-9356-de98f6290ebc",
   "metadata": {},
   "outputs": [],
   "source": [
    "from sklearn.cluster import KMeans\n",
    "wcss = [] # within cluster sum of squares\n",
    "\n",
    "for k in range(1, 15):\n",
    "    kmeansForLoop = KMeans(n_clusters = k)\n",
    "    kmeansForLoop.fit(dataset1)\n",
    "    wcss.append(kmeansForLoop.inertia_)\n",
    "\n",
    "plt.figure(figsize = (10, 10))\n",
    "plt.plot(range(1, 15), wcss)\n",
    "plt.xlabel(\"K value\")\n",
    "plt.ylabel(\"WCSS\")\n",
    "plt.show()"
   ]
  },
  {
   "cell_type": "code",
   "execution_count": null,
   "id": "8244114b-0f92-462d-92fd-b7b27b5ccc43",
   "metadata": {},
   "outputs": [],
   "source": [
    "dataWithoutLabels = dataset1.loc[:,['radius_mean','texture_mean']]\n",
    "kmeans = KMeans(n_clusters = 2)\n",
    "clusters = kmeans.fit_predict(dataWithoutLabels)\n",
    "dataWithoutLabels[\"type\"] = clusters\n",
    "dataWithoutLabels[\"type\"].unique()"
   ]
  },
  {
   "cell_type": "code",
   "execution_count": null,
   "id": "183db646-b3b8-4242-a844-9bb2a8a0297e",
   "metadata": {},
   "outputs": [],
   "source": [
    "dataWithoutLabels"
   ]
  },
  {
   "cell_type": "code",
   "execution_count": null,
   "id": "fc00653c-ec05-48f8-b5c9-0d8825bbd728",
   "metadata": {},
   "outputs": [],
   "source": [
    "plt.figure(figsize = (15, 10))\n",
    "plt.scatter(dataWithoutLabels[\"radius_mean\"][dataWithoutLabels[\"type\"] == 0], dataWithoutLabels[\"texture_mean\"][dataWithoutLabels[\"type\"] == 0], color = \"red\")\n",
    "plt.scatter(dataWithoutLabels[\"radius_mean\"][dataWithoutLabels[\"type\"] == 1], dataWithoutLabels[\"texture_mean\"][dataWithoutLabels[\"type\"] == 1], color = \"green\")\n",
    "plt.xlabel('radius_mean')\n",
    "plt.ylabel('texture_mean')\n",
    "plt.show()"
   ]
  },
  {
   "cell_type": "code",
   "execution_count": null,
   "id": "a62496b1-3246-42ab-93c0-168af8ec8f25",
   "metadata": {},
   "outputs": [],
   "source": [
    "plt.figure(figsize = (15, 10))\n",
    "plt.scatter(dataWithoutLabels[\"radius_mean\"], dataWithoutLabels[\"texture_mean\"], c = clusters, alpha = 0.5)\n",
    "plt.scatter(kmeans.cluster_centers_[:, 0], kmeans.cluster_centers_[:, 1], color = \"red\", alpha = 1)\n",
    "plt.xlabel('radius_mean')\n",
    "plt.ylabel('texture_mean')\n",
    "plt.show()"
   ]
  },
  {
   "cell_type": "code",
   "execution_count": null,
   "id": "f07532d9-927e-41f8-afe8-d620c6b820b6",
   "metadata": {},
   "outputs": [],
   "source": [
    "from sklearn.preprocessing import StandardScaler\n",
    "from sklearn.pipeline import make_pipeline\n",
    "scalar = StandardScaler()\n",
    "kmeans = KMeans(n_clusters = 2)\n",
    "pipe = make_pipeline(scalar, kmeans)\n",
    "pipe.fit(dataWithoutLabels.drop([\"type\"], axis=1))\n",
    "labels = pipe.predict(dataWithoutLabels.drop([\"type\"], axis=1))\n",
    "df = pd.DataFrame({'labels': labels, \"diagnosis\" : dataset['diagnosis']})\n",
    "ct = pd.crosstab(df['labels'], df['diagnosis'])\n",
    "print(ct)"
   ]
  },
  {
   "cell_type": "code",
   "execution_count": null,
   "id": "a7ab59b8-f67a-4176-9be3-1e4beb764e27",
   "metadata": {},
   "outputs": [],
   "source": [
    "import pickle\n",
    "pickle.dump(pipe, open(\"model1.pkl\", 'wb'))"
   ]
  },
  {
   "cell_type": "code",
   "execution_count": null,
   "id": "ff6a1afe-b57d-4459-aed8-28a36f3a72ef",
   "metadata": {},
   "outputs": [],
   "source": [
    "model=pickle.load(open(\"model1.pkl\", \"rb\"))"
   ]
  },
  {
   "cell_type": "code",
   "execution_count": null,
   "id": "8502c80a-89a5-4f9f-82f9-b11b92760172",
   "metadata": {},
   "outputs": [],
   "source": [
    "data = pd.DataFrame({\"radius_mean\": [12.66], \"texture_mean\": [13.77]})\n",
    "prediction=model.predict(data)\n",
    "prediction=list(prediction)\n",
    "for i in range(len(prediction)):\n",
    "    if prediction[i]==0:\n",
    "        prediction[i]=\"M\"\n",
    "    else:\n",
    "        prediction[i]=\"B\"\n",
    "\n",
    "print(prediction)"
   ]
  },
  {
   "cell_type": "code",
   "execution_count": null,
   "id": "9d680a2b-a7de-45c0-aab9-892a4817883e",
   "metadata": {},
   "outputs": [],
   "source": []
  }
 ],
 "metadata": {
  "kernelspec": {
   "display_name": "Python 3 (ipykernel)",
   "language": "python",
   "name": "python3"
  },
  "language_info": {
   "codemirror_mode": {
    "name": "ipython",
    "version": 3
   },
   "file_extension": ".py",
   "mimetype": "text/x-python",
   "name": "python",
   "nbconvert_exporter": "python",
   "pygments_lexer": "ipython3",
   "version": "3.11.8"
  }
 },
 "nbformat": 4,
 "nbformat_minor": 5
}
